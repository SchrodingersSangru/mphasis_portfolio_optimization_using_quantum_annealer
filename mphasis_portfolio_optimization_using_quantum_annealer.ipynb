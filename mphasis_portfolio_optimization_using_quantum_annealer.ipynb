{
  "nbformat": 4,
  "nbformat_minor": 0,
  "metadata": {
    "colab": {
      "provenance": []
    },
    "kernelspec": {
      "name": "python3",
      "display_name": "Python 3"
    },
    "language_info": {
      "name": "python"
    }
  },
  "cells": [
    {
      "cell_type": "code",
      "metadata": {
        "colab": {
          "base_uri": "https://localhost:8080/"
        },
        "id": "JgA6zsclRT7Y",
        "outputId": "1fa6bdff-cc69-4f69-f76c-6ca778fd932d"
      },
      "source": [
        "!pip install yfinance\n"
      ],
      "execution_count": null,
      "outputs": [
        {
          "output_type": "stream",
          "name": "stdout",
          "text": [
            "Requirement already satisfied: yfinance in /usr/local/lib/python3.7/dist-packages (0.1.63)\n",
            "Requirement already satisfied: lxml>=4.5.1 in /usr/local/lib/python3.7/dist-packages (from yfinance) (4.6.3)\n",
            "Requirement already satisfied: multitasking>=0.0.7 in /usr/local/lib/python3.7/dist-packages (from yfinance) (0.0.9)\n",
            "Requirement already satisfied: pandas>=0.24 in /usr/local/lib/python3.7/dist-packages (from yfinance) (1.1.5)\n",
            "Requirement already satisfied: requests>=2.20 in /usr/local/lib/python3.7/dist-packages (from yfinance) (2.23.0)\n",
            "Requirement already satisfied: numpy>=1.15 in /usr/local/lib/python3.7/dist-packages (from yfinance) (1.19.5)\n",
            "Requirement already satisfied: python-dateutil>=2.7.3 in /usr/local/lib/python3.7/dist-packages (from pandas>=0.24->yfinance) (2.8.2)\n",
            "Requirement already satisfied: pytz>=2017.2 in /usr/local/lib/python3.7/dist-packages (from pandas>=0.24->yfinance) (2018.9)\n",
            "Requirement already satisfied: six>=1.5 in /usr/local/lib/python3.7/dist-packages (from python-dateutil>=2.7.3->pandas>=0.24->yfinance) (1.15.0)\n",
            "Requirement already satisfied: urllib3!=1.25.0,!=1.25.1,<1.26,>=1.21.1 in /usr/local/lib/python3.7/dist-packages (from requests>=2.20->yfinance) (1.24.3)\n",
            "Requirement already satisfied: certifi>=2017.4.17 in /usr/local/lib/python3.7/dist-packages (from requests>=2.20->yfinance) (2021.5.30)\n",
            "Requirement already satisfied: chardet<4,>=3.0.2 in /usr/local/lib/python3.7/dist-packages (from requests>=2.20->yfinance) (3.0.4)\n",
            "Requirement already satisfied: idna<3,>=2.5 in /usr/local/lib/python3.7/dist-packages (from requests>=2.20->yfinance) (2.10)\n"
          ]
        }
      ]
    },
    {
      "cell_type": "code",
      "metadata": {
        "id": "dNDCzvKoR9OI"
      },
      "source": [
        "import numpy as np\n",
        "import pandas as pd\n",
        "import matplotlib.pyplot as plt\n",
        "import yfinance as yf"
      ],
      "execution_count": null,
      "outputs": []
    },
    {
      "cell_type": "code",
      "metadata": {
        "colab": {
          "base_uri": "https://localhost:8080/"
        },
        "id": "D23cVYOpSVSM",
        "outputId": "6081e56c-7458-4c7f-a13b-81a1d694bf58"
      },
      "source": [
        "#DOW30 DATASET, COPYING FOR MPHASIS\n",
        "assets = ['AAPL','AXP','BA','CAT', 'CSCO','CVX','DD','DIS', 'GE','GS','HD', 'IBM', 'INTC', 'JNJ', 'JPM','KO', 'MCD','MMM','MRK','MSFT','NKE','PFE', 'PG', 'T', 'TRV', 'UNH', 'V', 'VZ','WMT', 'XOM']\n",
        "len(assets)"
      ],
      "execution_count": null,
      "outputs": [
        {
          "output_type": "execute_result",
          "data": {
            "text/plain": [
              "30"
            ]
          },
          "metadata": {},
          "execution_count": 313
        }
      ]
    },
    {
      "cell_type": "code",
      "metadata": {
        "colab": {
          "base_uri": "https://localhost:8080/",
          "height": 215
        },
        "id": "_YuvbeZRS8lh",
        "outputId": "95661795-6e30-491f-8d16-3f5eb5461761"
      },
      "source": [
        "data = yf.download(assets, start=\"2015-01-05\", end = \"2019-12-30\")['Adj Close']\n",
        "data.head(2)"
      ],
      "execution_count": null,
      "outputs": [
        {
          "output_type": "stream",
          "name": "stdout",
          "text": [
            "[*********************100%***********************]  30 of 30 completed\n"
          ]
        },
        {
          "output_type": "execute_result",
          "data": {
            "text/html": [
              "<div>\n",
              "<style scoped>\n",
              "    .dataframe tbody tr th:only-of-type {\n",
              "        vertical-align: middle;\n",
              "    }\n",
              "\n",
              "    .dataframe tbody tr th {\n",
              "        vertical-align: top;\n",
              "    }\n",
              "\n",
              "    .dataframe thead th {\n",
              "        text-align: right;\n",
              "    }\n",
              "</style>\n",
              "<table border=\"1\" class=\"dataframe\">\n",
              "  <thead>\n",
              "    <tr style=\"text-align: right;\">\n",
              "      <th></th>\n",
              "      <th>AAPL</th>\n",
              "      <th>AXP</th>\n",
              "      <th>BA</th>\n",
              "      <th>CAT</th>\n",
              "      <th>CSCO</th>\n",
              "      <th>CVX</th>\n",
              "      <th>DD</th>\n",
              "      <th>DIS</th>\n",
              "      <th>GE</th>\n",
              "      <th>GS</th>\n",
              "      <th>HD</th>\n",
              "      <th>IBM</th>\n",
              "      <th>INTC</th>\n",
              "      <th>JNJ</th>\n",
              "      <th>JPM</th>\n",
              "      <th>KO</th>\n",
              "      <th>MCD</th>\n",
              "      <th>MMM</th>\n",
              "      <th>MRK</th>\n",
              "      <th>MSFT</th>\n",
              "      <th>NKE</th>\n",
              "      <th>PFE</th>\n",
              "      <th>PG</th>\n",
              "      <th>T</th>\n",
              "      <th>TRV</th>\n",
              "      <th>UNH</th>\n",
              "      <th>V</th>\n",
              "      <th>VZ</th>\n",
              "      <th>WMT</th>\n",
              "      <th>XOM</th>\n",
              "    </tr>\n",
              "    <tr>\n",
              "      <th>Date</th>\n",
              "      <th></th>\n",
              "      <th></th>\n",
              "      <th></th>\n",
              "      <th></th>\n",
              "      <th></th>\n",
              "      <th></th>\n",
              "      <th></th>\n",
              "      <th></th>\n",
              "      <th></th>\n",
              "      <th></th>\n",
              "      <th></th>\n",
              "      <th></th>\n",
              "      <th></th>\n",
              "      <th></th>\n",
              "      <th></th>\n",
              "      <th></th>\n",
              "      <th></th>\n",
              "      <th></th>\n",
              "      <th></th>\n",
              "      <th></th>\n",
              "      <th></th>\n",
              "      <th></th>\n",
              "      <th></th>\n",
              "      <th></th>\n",
              "      <th></th>\n",
              "      <th></th>\n",
              "      <th></th>\n",
              "      <th></th>\n",
              "      <th></th>\n",
              "      <th></th>\n",
              "    </tr>\n",
              "  </thead>\n",
              "  <tbody>\n",
              "    <tr>\n",
              "      <th>2015-01-05</th>\n",
              "      <td>24.083958</td>\n",
              "      <td>81.548584</td>\n",
              "      <td>112.870056</td>\n",
              "      <td>71.123222</td>\n",
              "      <td>22.013876</td>\n",
              "      <td>80.126266</td>\n",
              "      <td>52.824085</td>\n",
              "      <td>86.099403</td>\n",
              "      <td>165.094543</td>\n",
              "      <td>168.540009</td>\n",
              "      <td>87.349121</td>\n",
              "      <td>119.879631</td>\n",
              "      <td>29.945772</td>\n",
              "      <td>86.478516</td>\n",
              "      <td>50.585136</td>\n",
              "      <td>34.075344</td>\n",
              "      <td>77.014114</td>\n",
              "      <td>131.994339</td>\n",
              "      <td>45.323162</td>\n",
              "      <td>40.889702</td>\n",
              "      <td>43.473701</td>\n",
              "      <td>23.028952</td>\n",
              "      <td>73.637276</td>\n",
              "      <td>22.681784</td>\n",
              "      <td>89.418404</td>\n",
              "      <td>89.496941</td>\n",
              "      <td>61.931171</td>\n",
              "      <td>34.419804</td>\n",
              "      <td>73.469719</td>\n",
              "      <td>65.803818</td>\n",
              "    </tr>\n",
              "    <tr>\n",
              "      <th>2015-01-06</th>\n",
              "      <td>24.086227</td>\n",
              "      <td>79.810616</td>\n",
              "      <td>111.540627</td>\n",
              "      <td>70.665581</td>\n",
              "      <td>22.005737</td>\n",
              "      <td>80.089188</td>\n",
              "      <td>51.975174</td>\n",
              "      <td>85.642708</td>\n",
              "      <td>161.537643</td>\n",
              "      <td>165.130554</td>\n",
              "      <td>87.081688</td>\n",
              "      <td>117.294296</td>\n",
              "      <td>29.387686</td>\n",
              "      <td>86.053574</td>\n",
              "      <td>49.273514</td>\n",
              "      <td>34.334114</td>\n",
              "      <td>77.156067</td>\n",
              "      <td>130.586792</td>\n",
              "      <td>47.103607</td>\n",
              "      <td>40.289543</td>\n",
              "      <td>43.217972</td>\n",
              "      <td>23.221106</td>\n",
              "      <td>73.301857</td>\n",
              "      <td>22.715588</td>\n",
              "      <td>88.620087</td>\n",
              "      <td>89.316338</td>\n",
              "      <td>61.532097</td>\n",
              "      <td>34.767189</td>\n",
              "      <td>74.035858</td>\n",
              "      <td>65.453995</td>\n",
              "    </tr>\n",
              "  </tbody>\n",
              "</table>\n",
              "</div>"
            ],
            "text/plain": [
              "                 AAPL        AXP          BA  ...         VZ        WMT        XOM\n",
              "Date                                          ...                                 \n",
              "2015-01-05  24.083958  81.548584  112.870056  ...  34.419804  73.469719  65.803818\n",
              "2015-01-06  24.086227  79.810616  111.540627  ...  34.767189  74.035858  65.453995\n",
              "\n",
              "[2 rows x 30 columns]"
            ]
          },
          "metadata": {},
          "execution_count": 314
        }
      ]
    },
    {
      "cell_type": "code",
      "metadata": {
        "colab": {
          "base_uri": "https://localhost:8080/",
          "height": 475
        },
        "id": "2sMMxQnsXGQJ",
        "outputId": "6e33a305-2d2e-4156-9e85-244928532681"
      },
      "source": [
        "((data/data.iloc[0])*100).plot(figsize=(20,6))  # with normalized data\n",
        "plt.show()"
      ],
      "execution_count": null,
      "outputs": [
        {
          "output_type": "display_data",
          "data": {
            "image/png": "[encoded data removed]",
            "text/plain": [
              "<Figure size 1440x432 with 1 Axes>"
            ]
          },
          "metadata": {
            "needs_background": "light"
          }
        }
      ]
    },
    {
      "cell_type": "code",
      "metadata": {
        "colab": {
          "base_uri": "https://localhost:8080/",
          "height": 343
        },
        "id": "UIMOvvYEXZSX",
        "outputId": "5934315a-a67b-4c51-92d9-f47bbaaf892c"
      },
      "source": [
        "returns = np.log(data/data.shift(1))\n",
        "returns.head()"
      ],
      "execution_count": null,
      "outputs": [
        {
          "output_type": "execute_result",
          "data": {
            "text/html": [
              "<div>\n",
              "<style scoped>\n",
              "    .dataframe tbody tr th:only-of-type {\n",
              "        vertical-align: middle;\n",
              "    }\n",
              "\n",
              "    .dataframe tbody tr th {\n",
              "        vertical-align: top;\n",
              "    }\n",
              "\n",
              "    .dataframe thead th {\n",
              "        text-align: right;\n",
              "    }\n",
              "</style>\n",
              "<table border=\"1\" class=\"dataframe\">\n",
              "  <thead>\n",
              "    <tr style=\"text-align: right;\">\n",
              "      <th></th>\n",
              "      <th>AAPL</th>\n",
              "      <th>AXP</th>\n",
              "      <th>BA</th>\n",
              "      <th>CAT</th>\n",
              "      <th>CSCO</th>\n",
              "      <th>CVX</th>\n",
              "      <th>DD</th>\n",
              "      <th>DIS</th>\n",
              "      <th>GE</th>\n",
              "      <th>GS</th>\n",
              "      <th>HD</th>\n",
              "      <th>IBM</th>\n",
              "      <th>INTC</th>\n",
              "      <th>JNJ</th>\n",
              "      <th>JPM</th>\n",
              "      <th>KO</th>\n",
              "      <th>MCD</th>\n",
              "      <th>MMM</th>\n",
              "      <th>MRK</th>\n",
              "      <th>MSFT</th>\n",
              "      <th>NKE</th>\n",
              "      <th>PFE</th>\n",
              "      <th>PG</th>\n",
              "      <th>T</th>\n",
              "      <th>TRV</th>\n",
              "      <th>UNH</th>\n",
              "      <th>V</th>\n",
              "      <th>VZ</th>\n",
              "      <th>WMT</th>\n",
              "      <th>XOM</th>\n",
              "    </tr>\n",
              "    <tr>\n",
              "      <th>Date</th>\n",
              "      <th></th>\n",
              "      <th></th>\n",
              "      <th></th>\n",
              "      <th></th>\n",
              "      <th></th>\n",
              "      <th></th>\n",
              "      <th></th>\n",
              "      <th></th>\n",
              "      <th></th>\n",
              "      <th></th>\n",
              "      <th></th>\n",
              "      <th></th>\n",
              "      <th></th>\n",
              "      <th></th>\n",
              "      <th></th>\n",
              "      <th></th>\n",
              "      <th></th>\n",
              "      <th></th>\n",
              "      <th></th>\n",
              "      <th></th>\n",
              "      <th></th>\n",
              "      <th></th>\n",
              "      <th></th>\n",
              "      <th></th>\n",
              "      <th></th>\n",
              "      <th></th>\n",
              "      <th></th>\n",
              "      <th></th>\n",
              "      <th></th>\n",
              "      <th></th>\n",
              "    </tr>\n",
              "  </thead>\n",
              "  <tbody>\n",
              "    <tr>\n",
              "      <th>2015-01-05</th>\n",
              "      <td>NaN</td>\n",
              "      <td>NaN</td>\n",
              "      <td>NaN</td>\n",
              "      <td>NaN</td>\n",
              "      <td>NaN</td>\n",
              "      <td>NaN</td>\n",
              "      <td>NaN</td>\n",
              "      <td>NaN</td>\n",
              "      <td>NaN</td>\n",
              "      <td>NaN</td>\n",
              "      <td>NaN</td>\n",
              "      <td>NaN</td>\n",
              "      <td>NaN</td>\n",
              "      <td>NaN</td>\n",
              "      <td>NaN</td>\n",
              "      <td>NaN</td>\n",
              "      <td>NaN</td>\n",
              "      <td>NaN</td>\n",
              "      <td>NaN</td>\n",
              "      <td>NaN</td>\n",
              "      <td>NaN</td>\n",
              "      <td>NaN</td>\n",
              "      <td>NaN</td>\n",
              "      <td>NaN</td>\n",
              "      <td>NaN</td>\n",
              "      <td>NaN</td>\n",
              "      <td>NaN</td>\n",
              "      <td>NaN</td>\n",
              "      <td>NaN</td>\n",
              "      <td>NaN</td>\n",
              "    </tr>\n",
              "    <tr>\n",
              "      <th>2015-01-06</th>\n",
              "      <td>0.000094</td>\n",
              "      <td>-0.021542</td>\n",
              "      <td>-0.011848</td>\n",
              "      <td>-0.006455</td>\n",
              "      <td>-0.000370</td>\n",
              "      <td>-0.000463</td>\n",
              "      <td>-0.016201</td>\n",
              "      <td>-0.005318</td>\n",
              "      <td>-0.021780</td>\n",
              "      <td>-0.020437</td>\n",
              "      <td>-0.003066</td>\n",
              "      <td>-0.021802</td>\n",
              "      <td>-0.018812</td>\n",
              "      <td>-0.004926</td>\n",
              "      <td>-0.026271</td>\n",
              "      <td>0.007565</td>\n",
              "      <td>0.001842</td>\n",
              "      <td>-0.010721</td>\n",
              "      <td>0.038531</td>\n",
              "      <td>-0.014786</td>\n",
              "      <td>-0.005900</td>\n",
              "      <td>0.008309</td>\n",
              "      <td>-0.004565</td>\n",
              "      <td>0.001489</td>\n",
              "      <td>-0.008968</td>\n",
              "      <td>-0.002020</td>\n",
              "      <td>-0.006465</td>\n",
              "      <td>0.010042</td>\n",
              "      <td>0.007676</td>\n",
              "      <td>-0.005330</td>\n",
              "    </tr>\n",
              "    <tr>\n",
              "      <th>2015-01-07</th>\n",
              "      <td>0.013925</td>\n",
              "      <td>0.021605</td>\n",
              "      <td>0.015406</td>\n",
              "      <td>0.015378</td>\n",
              "      <td>0.009200</td>\n",
              "      <td>-0.000833</td>\n",
              "      <td>-0.001612</td>\n",
              "      <td>0.010178</td>\n",
              "      <td>0.000415</td>\n",
              "      <td>0.014793</td>\n",
              "      <td>0.033700</td>\n",
              "      <td>-0.006557</td>\n",
              "      <td>0.020758</td>\n",
              "      <td>0.021836</td>\n",
              "      <td>0.001525</td>\n",
              "      <td>0.012405</td>\n",
              "      <td>0.017274</td>\n",
              "      <td>0.007223</td>\n",
              "      <td>0.021161</td>\n",
              "      <td>0.012625</td>\n",
              "      <td>0.020446</td>\n",
              "      <td>0.013593</td>\n",
              "      <td>0.005232</td>\n",
              "      <td>0.001206</td>\n",
              "      <td>0.016904</td>\n",
              "      <td>0.010159</td>\n",
              "      <td>0.013309</td>\n",
              "      <td>-0.006474</td>\n",
              "      <td>0.026186</td>\n",
              "      <td>0.010082</td>\n",
              "    </tr>\n",
              "    <tr>\n",
              "      <th>2015-01-08</th>\n",
              "      <td>0.037702</td>\n",
              "      <td>0.014076</td>\n",
              "      <td>0.017528</td>\n",
              "      <td>0.010197</td>\n",
              "      <td>0.007663</td>\n",
              "      <td>0.022625</td>\n",
              "      <td>0.024580</td>\n",
              "      <td>0.010288</td>\n",
              "      <td>0.011971</td>\n",
              "      <td>0.015840</td>\n",
              "      <td>0.021883</td>\n",
              "      <td>0.021502</td>\n",
              "      <td>0.018430</td>\n",
              "      <td>0.007832</td>\n",
              "      <td>0.022100</td>\n",
              "      <td>0.012023</td>\n",
              "      <td>0.003716</td>\n",
              "      <td>0.023685</td>\n",
              "      <td>0.019927</td>\n",
              "      <td>0.028994</td>\n",
              "      <td>0.022822</td>\n",
              "      <td>0.020203</td>\n",
              "      <td>0.011370</td>\n",
              "      <td>0.009900</td>\n",
              "      <td>0.020549</td>\n",
              "      <td>0.046629</td>\n",
              "      <td>0.013324</td>\n",
              "      <td>0.021207</td>\n",
              "      <td>0.020886</td>\n",
              "      <td>0.016507</td>\n",
              "    </tr>\n",
              "    <tr>\n",
              "      <th>2015-01-09</th>\n",
              "      <td>0.001072</td>\n",
              "      <td>-0.012748</td>\n",
              "      <td>-0.001975</td>\n",
              "      <td>-0.012021</td>\n",
              "      <td>0.010127</td>\n",
              "      <td>-0.020127</td>\n",
              "      <td>-0.001575</td>\n",
              "      <td>0.004892</td>\n",
              "      <td>-0.014050</td>\n",
              "      <td>-0.015466</td>\n",
              "      <td>-0.017296</td>\n",
              "      <td>0.004346</td>\n",
              "      <td>0.001906</td>\n",
              "      <td>-0.013723</td>\n",
              "      <td>-0.017540</td>\n",
              "      <td>-0.011093</td>\n",
              "      <td>-0.012262</td>\n",
              "      <td>-0.012360</td>\n",
              "      <td>-0.004625</td>\n",
              "      <td>-0.008441</td>\n",
              "      <td>-0.011085</td>\n",
              "      <td>0.004605</td>\n",
              "      <td>-0.009374</td>\n",
              "      <td>-0.002990</td>\n",
              "      <td>-0.012676</td>\n",
              "      <td>-0.009404</td>\n",
              "      <td>-0.014934</td>\n",
              "      <td>-0.008942</td>\n",
              "      <td>-0.012457</td>\n",
              "      <td>-0.001410</td>\n",
              "    </tr>\n",
              "  </tbody>\n",
              "</table>\n",
              "</div>"
            ],
            "text/plain": [
              "                AAPL       AXP        BA  ...        VZ       WMT       XOM\n",
              "Date                                      ...                              \n",
              "2015-01-05       NaN       NaN       NaN  ...       NaN       NaN       NaN\n",
              "2015-01-06  0.000094 -0.021542 -0.011848  ...  0.010042  0.007676 -0.005330\n",
              "2015-01-07  0.013925  0.021605  0.015406  ... -0.006474  0.026186  0.010082\n",
              "2015-01-08  0.037702  0.014076  0.017528  ...  0.021207  0.020886  0.016507\n",
              "2015-01-09  0.001072 -0.012748 -0.001975  ... -0.008942 -0.012457 -0.001410\n",
              "\n",
              "[5 rows x 30 columns]"
            ]
          },
          "metadata": {},
          "execution_count": 316
        }
      ]
    },
    {
      "cell_type": "code",
      "metadata": {
        "id": "cdnR3XdZiMz5",
        "colab": {
          "base_uri": "https://localhost:8080/",
          "height": 343
        },
        "outputId": "2a0ec783-c7ce-4b97-c2be-ffeb16c0b15f"
      },
      "source": [
        "ret_data = data.pct_change()[1:]\n",
        "ret_data.head()"
      ],
      "execution_count": null,
      "outputs": [
        {
          "output_type": "execute_result",
          "data": {
            "text/html": [
              "<div>\n",
              "<style scoped>\n",
              "    .dataframe tbody tr th:only-of-type {\n",
              "        vertical-align: middle;\n",
              "    }\n",
              "\n",
              "    .dataframe tbody tr th {\n",
              "        vertical-align: top;\n",
              "    }\n",
              "\n",
              "    .dataframe thead th {\n",
              "        text-align: right;\n",
              "    }\n",
              "</style>\n",
              "<table border=\"1\" class=\"dataframe\">\n",
              "  <thead>\n",
              "    <tr style=\"text-align: right;\">\n",
              "      <th></th>\n",
              "      <th>AAPL</th>\n",
              "      <th>AXP</th>\n",
              "      <th>BA</th>\n",
              "      <th>CAT</th>\n",
              "      <th>CSCO</th>\n",
              "      <th>CVX</th>\n",
              "      <th>DD</th>\n",
              "      <th>DIS</th>\n",
              "      <th>GE</th>\n",
              "      <th>GS</th>\n",
              "      <th>HD</th>\n",
              "      <th>IBM</th>\n",
              "      <th>INTC</th>\n",
              "      <th>JNJ</th>\n",
              "      <th>JPM</th>\n",
              "      <th>KO</th>\n",
              "      <th>MCD</th>\n",
              "      <th>MMM</th>\n",
              "      <th>MRK</th>\n",
              "      <th>MSFT</th>\n",
              "      <th>NKE</th>\n",
              "      <th>PFE</th>\n",
              "      <th>PG</th>\n",
              "      <th>T</th>\n",
              "      <th>TRV</th>\n",
              "      <th>UNH</th>\n",
              "      <th>V</th>\n",
              "      <th>VZ</th>\n",
              "      <th>WMT</th>\n",
              "      <th>XOM</th>\n",
              "    </tr>\n",
              "    <tr>\n",
              "      <th>Date</th>\n",
              "      <th></th>\n",
              "      <th></th>\n",
              "      <th></th>\n",
              "      <th></th>\n",
              "      <th></th>\n",
              "      <th></th>\n",
              "      <th></th>\n",
              "      <th></th>\n",
              "      <th></th>\n",
              "      <th></th>\n",
              "      <th></th>\n",
              "      <th></th>\n",
              "      <th></th>\n",
              "      <th></th>\n",
              "      <th></th>\n",
              "      <th></th>\n",
              "      <th></th>\n",
              "      <th></th>\n",
              "      <th></th>\n",
              "      <th></th>\n",
              "      <th></th>\n",
              "      <th></th>\n",
              "      <th></th>\n",
              "      <th></th>\n",
              "      <th></th>\n",
              "      <th></th>\n",
              "      <th></th>\n",
              "      <th></th>\n",
              "      <th></th>\n",
              "      <th></th>\n",
              "    </tr>\n",
              "  </thead>\n",
              "  <tbody>\n",
              "    <tr>\n",
              "      <th>2015-01-06</th>\n",
              "      <td>0.000094</td>\n",
              "      <td>-0.021312</td>\n",
              "      <td>-0.011778</td>\n",
              "      <td>-0.006434</td>\n",
              "      <td>-0.000370</td>\n",
              "      <td>-0.000463</td>\n",
              "      <td>-0.016071</td>\n",
              "      <td>-0.005304</td>\n",
              "      <td>-0.021545</td>\n",
              "      <td>-0.020229</td>\n",
              "      <td>-0.003062</td>\n",
              "      <td>-0.021566</td>\n",
              "      <td>-0.018637</td>\n",
              "      <td>-0.004914</td>\n",
              "      <td>-0.025929</td>\n",
              "      <td>0.007594</td>\n",
              "      <td>0.001843</td>\n",
              "      <td>-0.010664</td>\n",
              "      <td>0.039283</td>\n",
              "      <td>-0.014678</td>\n",
              "      <td>-0.005882</td>\n",
              "      <td>0.008344</td>\n",
              "      <td>-0.004555</td>\n",
              "      <td>0.001490</td>\n",
              "      <td>-0.008928</td>\n",
              "      <td>-0.002018</td>\n",
              "      <td>-0.006444</td>\n",
              "      <td>0.010093</td>\n",
              "      <td>0.007706</td>\n",
              "      <td>-0.005316</td>\n",
              "    </tr>\n",
              "    <tr>\n",
              "      <th>2015-01-07</th>\n",
              "      <td>0.014022</td>\n",
              "      <td>0.021840</td>\n",
              "      <td>0.015526</td>\n",
              "      <td>0.015497</td>\n",
              "      <td>0.009242</td>\n",
              "      <td>-0.000833</td>\n",
              "      <td>-0.001610</td>\n",
              "      <td>0.010230</td>\n",
              "      <td>0.000416</td>\n",
              "      <td>0.014903</td>\n",
              "      <td>0.034275</td>\n",
              "      <td>-0.006535</td>\n",
              "      <td>0.020975</td>\n",
              "      <td>0.022076</td>\n",
              "      <td>0.001526</td>\n",
              "      <td>0.012482</td>\n",
              "      <td>0.017424</td>\n",
              "      <td>0.007249</td>\n",
              "      <td>0.021386</td>\n",
              "      <td>0.012705</td>\n",
              "      <td>0.020656</td>\n",
              "      <td>0.013686</td>\n",
              "      <td>0.005246</td>\n",
              "      <td>0.001207</td>\n",
              "      <td>0.017048</td>\n",
              "      <td>0.010210</td>\n",
              "      <td>0.013398</td>\n",
              "      <td>-0.006453</td>\n",
              "      <td>0.026532</td>\n",
              "      <td>0.010133</td>\n",
              "    </tr>\n",
              "    <tr>\n",
              "      <th>2015-01-08</th>\n",
              "      <td>0.038422</td>\n",
              "      <td>0.014175</td>\n",
              "      <td>0.017682</td>\n",
              "      <td>0.010249</td>\n",
              "      <td>0.007692</td>\n",
              "      <td>0.022883</td>\n",
              "      <td>0.024885</td>\n",
              "      <td>0.010341</td>\n",
              "      <td>0.012043</td>\n",
              "      <td>0.015966</td>\n",
              "      <td>0.022124</td>\n",
              "      <td>0.021735</td>\n",
              "      <td>0.018601</td>\n",
              "      <td>0.007863</td>\n",
              "      <td>0.022346</td>\n",
              "      <td>0.012096</td>\n",
              "      <td>0.003723</td>\n",
              "      <td>0.023967</td>\n",
              "      <td>0.020126</td>\n",
              "      <td>0.029418</td>\n",
              "      <td>0.023084</td>\n",
              "      <td>0.020408</td>\n",
              "      <td>0.011435</td>\n",
              "      <td>0.009949</td>\n",
              "      <td>0.020762</td>\n",
              "      <td>0.047733</td>\n",
              "      <td>0.013413</td>\n",
              "      <td>0.021434</td>\n",
              "      <td>0.021106</td>\n",
              "      <td>0.016644</td>\n",
              "    </tr>\n",
              "    <tr>\n",
              "      <th>2015-01-09</th>\n",
              "      <td>0.001072</td>\n",
              "      <td>-0.012667</td>\n",
              "      <td>-0.001973</td>\n",
              "      <td>-0.011949</td>\n",
              "      <td>0.010178</td>\n",
              "      <td>-0.019926</td>\n",
              "      <td>-0.001574</td>\n",
              "      <td>0.004904</td>\n",
              "      <td>-0.013951</td>\n",
              "      <td>-0.015347</td>\n",
              "      <td>-0.017148</td>\n",
              "      <td>0.004356</td>\n",
              "      <td>0.001908</td>\n",
              "      <td>-0.013629</td>\n",
              "      <td>-0.017387</td>\n",
              "      <td>-0.011032</td>\n",
              "      <td>-0.012187</td>\n",
              "      <td>-0.012284</td>\n",
              "      <td>-0.004614</td>\n",
              "      <td>-0.008405</td>\n",
              "      <td>-0.011024</td>\n",
              "      <td>0.004615</td>\n",
              "      <td>-0.009330</td>\n",
              "      <td>-0.002985</td>\n",
              "      <td>-0.012596</td>\n",
              "      <td>-0.009360</td>\n",
              "      <td>-0.014823</td>\n",
              "      <td>-0.008902</td>\n",
              "      <td>-0.012380</td>\n",
              "      <td>-0.001409</td>\n",
              "    </tr>\n",
              "    <tr>\n",
              "      <th>2015-01-12</th>\n",
              "      <td>-0.024641</td>\n",
              "      <td>-0.010175</td>\n",
              "      <td>-0.005094</td>\n",
              "      <td>-0.008671</td>\n",
              "      <td>0.009356</td>\n",
              "      <td>-0.021532</td>\n",
              "      <td>-0.005854</td>\n",
              "      <td>0.002228</td>\n",
              "      <td>-0.002081</td>\n",
              "      <td>-0.012170</td>\n",
              "      <td>-0.004481</td>\n",
              "      <td>-0.016781</td>\n",
              "      <td>-0.004352</td>\n",
              "      <td>-0.003430</td>\n",
              "      <td>-0.008595</td>\n",
              "      <td>-0.009063</td>\n",
              "      <td>-0.002146</td>\n",
              "      <td>-0.005445</td>\n",
              "      <td>-0.004156</td>\n",
              "      <td>-0.012503</td>\n",
              "      <td>-0.001354</td>\n",
              "      <td>0.003675</td>\n",
              "      <td>-0.003656</td>\n",
              "      <td>0.002695</td>\n",
              "      <td>-0.005953</td>\n",
              "      <td>-0.011281</td>\n",
              "      <td>-0.001958</td>\n",
              "      <td>0.006844</td>\n",
              "      <td>0.007499</td>\n",
              "      <td>-0.019218</td>\n",
              "    </tr>\n",
              "  </tbody>\n",
              "</table>\n",
              "</div>"
            ],
            "text/plain": [
              "                AAPL       AXP        BA  ...        VZ       WMT       XOM\n",
              "Date                                      ...                              \n",
              "2015-01-06  0.000094 -0.021312 -0.011778  ...  0.010093  0.007706 -0.005316\n",
              "2015-01-07  0.014022  0.021840  0.015526  ... -0.006453  0.026532  0.010133\n",
              "2015-01-08  0.038422  0.014175  0.017682  ...  0.021434  0.021106  0.016644\n",
              "2015-01-09  0.001072 -0.012667 -0.001973  ... -0.008902 -0.012380 -0.001409\n",
              "2015-01-12 -0.024641 -0.010175 -0.005094  ...  0.006844  0.007499 -0.019218\n",
              "\n",
              "[5 rows x 30 columns]"
            ]
          },
          "metadata": {},
          "execution_count": 317
        }
      ]
    },
    {
      "cell_type": "code",
      "metadata": {
        "id": "6bpYEXLVcjFT",
        "outputId": "bdcdba3b-c801-4cd3-8056-d91b67862673",
        "colab": {
          "base_uri": "https://localhost:8080/"
        }
      },
      "source": [
        "assets = ['AAPL','AXP','BA','CAT', 'CSCO','CVX','DD','DIS', 'GE','GS','HD', 'IBM', 'INTC', 'JNJ', 'JPM','KO', 'MCD','MMM','MRK','MSFT','NKE','PFE', 'PG', 'T', 'TRV', 'UNH', 'V', 'VZ','WMT', 'XOM']\n",
        "len(assets)"
      ],
      "execution_count": null,
      "outputs": [
        {
          "output_type": "execute_result",
          "data": {
            "text/plain": [
              "30"
            ]
          },
          "metadata": {},
          "execution_count": 1
        }
      ]
    },
    {
      "cell_type": "code",
      "metadata": {
        "id": "0due0a1ZXzXr",
        "colab": {
          "base_uri": "https://localhost:8080/"
        },
        "outputId": "c88db451-84d5-4277-e300-e392d0351553"
      },
      "source": [
        "selected_stocks =[ 'UNH','AAPL', 'MSFT', 'BA', 'V', 'HD', 'CSCO', 'JNJ', 'CVX', 'TRV', 'MCD', 'AXP', 'KO', 'INTC', 'DIS', 'MMM', 'PG', 'T', 'VZ', 'WMT']\n",
        "len(selected_stocks)"
      ],
      "execution_count": null,
      "outputs": [
        {
          "output_type": "execute_result",
          "data": {
            "text/plain": [
              "20"
            ]
          },
          "metadata": {},
          "execution_count": 319
        }
      ]
    },
    {
      "cell_type": "code",
      "metadata": {
        "colab": {
          "base_uri": "https://localhost:8080/",
          "height": 215
        },
        "id": "tskQSOmNxUJk",
        "outputId": "60aa6f9a-7137-4d0e-bdc9-d41e3e2f98ab"
      },
      "source": [
        "data_selected = yf.download(selected_stocks, start=\"2015-01-05\", end = \"2019-12-30\")['Adj Close']\n",
        "data_selected.head(2)"
      ],
      "execution_count": null,
      "outputs": [
        {
          "output_type": "stream",
          "name": "stdout",
          "text": [
            "[*********************100%***********************]  20 of 20 completed\n"
          ]
        },
        {
          "output_type": "execute_result",
          "data": {
            "text/html": [
              "<div>\n",
              "<style scoped>\n",
              "    .dataframe tbody tr th:only-of-type {\n",
              "        vertical-align: middle;\n",
              "    }\n",
              "\n",
              "    .dataframe tbody tr th {\n",
              "        vertical-align: top;\n",
              "    }\n",
              "\n",
              "    .dataframe thead th {\n",
              "        text-align: right;\n",
              "    }\n",
              "</style>\n",
              "<table border=\"1\" class=\"dataframe\">\n",
              "  <thead>\n",
              "    <tr style=\"text-align: right;\">\n",
              "      <th></th>\n",
              "      <th>AAPL</th>\n",
              "      <th>AXP</th>\n",
              "      <th>BA</th>\n",
              "      <th>CSCO</th>\n",
              "      <th>CVX</th>\n",
              "      <th>DIS</th>\n",
              "      <th>HD</th>\n",
              "      <th>INTC</th>\n",
              "      <th>JNJ</th>\n",
              "      <th>KO</th>\n",
              "      <th>MCD</th>\n",
              "      <th>MMM</th>\n",
              "      <th>MSFT</th>\n",
              "      <th>PG</th>\n",
              "      <th>T</th>\n",
              "      <th>TRV</th>\n",
              "      <th>UNH</th>\n",
              "      <th>V</th>\n",
              "      <th>VZ</th>\n",
              "      <th>WMT</th>\n",
              "    </tr>\n",
              "    <tr>\n",
              "      <th>Date</th>\n",
              "      <th></th>\n",
              "      <th></th>\n",
              "      <th></th>\n",
              "      <th></th>\n",
              "      <th></th>\n",
              "      <th></th>\n",
              "      <th></th>\n",
              "      <th></th>\n",
              "      <th></th>\n",
              "      <th></th>\n",
              "      <th></th>\n",
              "      <th></th>\n",
              "      <th></th>\n",
              "      <th></th>\n",
              "      <th></th>\n",
              "      <th></th>\n",
              "      <th></th>\n",
              "      <th></th>\n",
              "      <th></th>\n",
              "      <th></th>\n",
              "    </tr>\n",
              "  </thead>\n",
              "  <tbody>\n",
              "    <tr>\n",
              "      <th>2015-01-05</th>\n",
              "      <td>24.083958</td>\n",
              "      <td>81.548584</td>\n",
              "      <td>112.870056</td>\n",
              "      <td>22.013876</td>\n",
              "      <td>80.126266</td>\n",
              "      <td>86.099403</td>\n",
              "      <td>87.349121</td>\n",
              "      <td>29.945772</td>\n",
              "      <td>86.478516</td>\n",
              "      <td>34.075344</td>\n",
              "      <td>77.014114</td>\n",
              "      <td>131.994339</td>\n",
              "      <td>40.889702</td>\n",
              "      <td>73.637276</td>\n",
              "      <td>22.681784</td>\n",
              "      <td>89.418404</td>\n",
              "      <td>89.496941</td>\n",
              "      <td>61.931171</td>\n",
              "      <td>34.419804</td>\n",
              "      <td>73.469719</td>\n",
              "    </tr>\n",
              "    <tr>\n",
              "      <th>2015-01-06</th>\n",
              "      <td>24.086227</td>\n",
              "      <td>79.810616</td>\n",
              "      <td>111.540627</td>\n",
              "      <td>22.005737</td>\n",
              "      <td>80.089188</td>\n",
              "      <td>85.642708</td>\n",
              "      <td>87.081688</td>\n",
              "      <td>29.387686</td>\n",
              "      <td>86.053574</td>\n",
              "      <td>34.334114</td>\n",
              "      <td>77.156067</td>\n",
              "      <td>130.586792</td>\n",
              "      <td>40.289543</td>\n",
              "      <td>73.301857</td>\n",
              "      <td>22.715588</td>\n",
              "      <td>88.620087</td>\n",
              "      <td>89.316338</td>\n",
              "      <td>61.532097</td>\n",
              "      <td>34.767189</td>\n",
              "      <td>74.035858</td>\n",
              "    </tr>\n",
              "  </tbody>\n",
              "</table>\n",
              "</div>"
            ],
            "text/plain": [
              "                 AAPL        AXP          BA  ...          V         VZ        WMT\n",
              "Date                                          ...                                 \n",
              "2015-01-05  24.083958  81.548584  112.870056  ...  61.931171  34.419804  73.469719\n",
              "2015-01-06  24.086227  79.810616  111.540627  ...  61.532097  34.767189  74.035858\n",
              "\n",
              "[2 rows x 20 columns]"
            ]
          },
          "metadata": {},
          "execution_count": 320
        }
      ]
    },
    {
      "cell_type": "code",
      "metadata": {
        "colab": {
          "base_uri": "https://localhost:8080/",
          "height": 343
        },
        "id": "igGRJhjrxeYv",
        "outputId": "f01a78b2-56ad-495b-f6a9-11edd2a78dc9"
      },
      "source": [
        "ret_data1 = data_selected.pct_change()[1:]\n",
        "ret_data.head()"
      ],
      "execution_count": null,
      "outputs": [
        {
          "output_type": "execute_result",
          "data": {
            "text/html": [
              "<div>\n",
              "<style scoped>\n",
              "    .dataframe tbody tr th:only-of-type {\n",
              "        vertical-align: middle;\n",
              "    }\n",
              "\n",
              "    .dataframe tbody tr th {\n",
              "        vertical-align: top;\n",
              "    }\n",
              "\n",
              "    .dataframe thead th {\n",
              "        text-align: right;\n",
              "    }\n",
              "</style>\n",
              "<table border=\"1\" class=\"dataframe\">\n",
              "  <thead>\n",
              "    <tr style=\"text-align: right;\">\n",
              "      <th></th>\n",
              "      <th>AAPL</th>\n",
              "      <th>AXP</th>\n",
              "      <th>BA</th>\n",
              "      <th>CAT</th>\n",
              "      <th>CSCO</th>\n",
              "      <th>CVX</th>\n",
              "      <th>DD</th>\n",
              "      <th>DIS</th>\n",
              "      <th>GE</th>\n",
              "      <th>GS</th>\n",
              "      <th>HD</th>\n",
              "      <th>IBM</th>\n",
              "      <th>INTC</th>\n",
              "      <th>JNJ</th>\n",
              "      <th>JPM</th>\n",
              "      <th>KO</th>\n",
              "      <th>MCD</th>\n",
              "      <th>MMM</th>\n",
              "      <th>MRK</th>\n",
              "      <th>MSFT</th>\n",
              "      <th>NKE</th>\n",
              "      <th>PFE</th>\n",
              "      <th>PG</th>\n",
              "      <th>T</th>\n",
              "      <th>TRV</th>\n",
              "      <th>UNH</th>\n",
              "      <th>V</th>\n",
              "      <th>VZ</th>\n",
              "      <th>WMT</th>\n",
              "      <th>XOM</th>\n",
              "    </tr>\n",
              "    <tr>\n",
              "      <th>Date</th>\n",
              "      <th></th>\n",
              "      <th></th>\n",
              "      <th></th>\n",
              "      <th></th>\n",
              "      <th></th>\n",
              "      <th></th>\n",
              "      <th></th>\n",
              "      <th></th>\n",
              "      <th></th>\n",
              "      <th></th>\n",
              "      <th></th>\n",
              "      <th></th>\n",
              "      <th></th>\n",
              "      <th></th>\n",
              "      <th></th>\n",
              "      <th></th>\n",
              "      <th></th>\n",
              "      <th></th>\n",
              "      <th></th>\n",
              "      <th></th>\n",
              "      <th></th>\n",
              "      <th></th>\n",
              "      <th></th>\n",
              "      <th></th>\n",
              "      <th></th>\n",
              "      <th></th>\n",
              "      <th></th>\n",
              "      <th></th>\n",
              "      <th></th>\n",
              "      <th></th>\n",
              "    </tr>\n",
              "  </thead>\n",
              "  <tbody>\n",
              "    <tr>\n",
              "      <th>2015-01-06</th>\n",
              "      <td>0.000094</td>\n",
              "      <td>-0.021312</td>\n",
              "      <td>-0.011778</td>\n",
              "      <td>-0.006434</td>\n",
              "      <td>-0.000370</td>\n",
              "      <td>-0.000463</td>\n",
              "      <td>-0.016071</td>\n",
              "      <td>-0.005304</td>\n",
              "      <td>-0.021545</td>\n",
              "      <td>-0.020229</td>\n",
              "      <td>-0.003062</td>\n",
              "      <td>-0.021566</td>\n",
              "      <td>-0.018637</td>\n",
              "      <td>-0.004914</td>\n",
              "      <td>-0.025929</td>\n",
              "      <td>0.007594</td>\n",
              "      <td>0.001843</td>\n",
              "      <td>-0.010664</td>\n",
              "      <td>0.039283</td>\n",
              "      <td>-0.014678</td>\n",
              "      <td>-0.005882</td>\n",
              "      <td>0.008344</td>\n",
              "      <td>-0.004555</td>\n",
              "      <td>0.001490</td>\n",
              "      <td>-0.008928</td>\n",
              "      <td>-0.002018</td>\n",
              "      <td>-0.006444</td>\n",
              "      <td>0.010093</td>\n",
              "      <td>0.007706</td>\n",
              "      <td>-0.005316</td>\n",
              "    </tr>\n",
              "    <tr>\n",
              "      <th>2015-01-07</th>\n",
              "      <td>0.014022</td>\n",
              "      <td>0.021840</td>\n",
              "      <td>0.015526</td>\n",
              "      <td>0.015497</td>\n",
              "      <td>0.009242</td>\n",
              "      <td>-0.000833</td>\n",
              "      <td>-0.001610</td>\n",
              "      <td>0.010230</td>\n",
              "      <td>0.000416</td>\n",
              "      <td>0.014903</td>\n",
              "      <td>0.034275</td>\n",
              "      <td>-0.006535</td>\n",
              "      <td>0.020975</td>\n",
              "      <td>0.022076</td>\n",
              "      <td>0.001526</td>\n",
              "      <td>0.012482</td>\n",
              "      <td>0.017424</td>\n",
              "      <td>0.007249</td>\n",
              "      <td>0.021386</td>\n",
              "      <td>0.012705</td>\n",
              "      <td>0.020656</td>\n",
              "      <td>0.013686</td>\n",
              "      <td>0.005246</td>\n",
              "      <td>0.001207</td>\n",
              "      <td>0.017048</td>\n",
              "      <td>0.010210</td>\n",
              "      <td>0.013398</td>\n",
              "      <td>-0.006453</td>\n",
              "      <td>0.026532</td>\n",
              "      <td>0.010133</td>\n",
              "    </tr>\n",
              "    <tr>\n",
              "      <th>2015-01-08</th>\n",
              "      <td>0.038422</td>\n",
              "      <td>0.014175</td>\n",
              "      <td>0.017682</td>\n",
              "      <td>0.010249</td>\n",
              "      <td>0.007692</td>\n",
              "      <td>0.022883</td>\n",
              "      <td>0.024885</td>\n",
              "      <td>0.010341</td>\n",
              "      <td>0.012043</td>\n",
              "      <td>0.015966</td>\n",
              "      <td>0.022124</td>\n",
              "      <td>0.021735</td>\n",
              "      <td>0.018601</td>\n",
              "      <td>0.007863</td>\n",
              "      <td>0.022346</td>\n",
              "      <td>0.012096</td>\n",
              "      <td>0.003723</td>\n",
              "      <td>0.023967</td>\n",
              "      <td>0.020126</td>\n",
              "      <td>0.029418</td>\n",
              "      <td>0.023084</td>\n",
              "      <td>0.020408</td>\n",
              "      <td>0.011435</td>\n",
              "      <td>0.009949</td>\n",
              "      <td>0.020762</td>\n",
              "      <td>0.047733</td>\n",
              "      <td>0.013413</td>\n",
              "      <td>0.021434</td>\n",
              "      <td>0.021106</td>\n",
              "      <td>0.016644</td>\n",
              "    </tr>\n",
              "    <tr>\n",
              "      <th>2015-01-09</th>\n",
              "      <td>0.001072</td>\n",
              "      <td>-0.012667</td>\n",
              "      <td>-0.001973</td>\n",
              "      <td>-0.011949</td>\n",
              "      <td>0.010178</td>\n",
              "      <td>-0.019926</td>\n",
              "      <td>-0.001574</td>\n",
              "      <td>0.004904</td>\n",
              "      <td>-0.013951</td>\n",
              "      <td>-0.015347</td>\n",
              "      <td>-0.017148</td>\n",
              "      <td>0.004356</td>\n",
              "      <td>0.001908</td>\n",
              "      <td>-0.013629</td>\n",
              "      <td>-0.017387</td>\n",
              "      <td>-0.011032</td>\n",
              "      <td>-0.012187</td>\n",
              "      <td>-0.012284</td>\n",
              "      <td>-0.004614</td>\n",
              "      <td>-0.008405</td>\n",
              "      <td>-0.011024</td>\n",
              "      <td>0.004615</td>\n",
              "      <td>-0.009330</td>\n",
              "      <td>-0.002985</td>\n",
              "      <td>-0.012596</td>\n",
              "      <td>-0.009360</td>\n",
              "      <td>-0.014823</td>\n",
              "      <td>-0.008902</td>\n",
              "      <td>-0.012380</td>\n",
              "      <td>-0.001409</td>\n",
              "    </tr>\n",
              "    <tr>\n",
              "      <th>2015-01-12</th>\n",
              "      <td>-0.024641</td>\n",
              "      <td>-0.010175</td>\n",
              "      <td>-0.005094</td>\n",
              "      <td>-0.008671</td>\n",
              "      <td>0.009356</td>\n",
              "      <td>-0.021532</td>\n",
              "      <td>-0.005854</td>\n",
              "      <td>0.002228</td>\n",
              "      <td>-0.002081</td>\n",
              "      <td>-0.012170</td>\n",
              "      <td>-0.004481</td>\n",
              "      <td>-0.016781</td>\n",
              "      <td>-0.004352</td>\n",
              "      <td>-0.003430</td>\n",
              "      <td>-0.008595</td>\n",
              "      <td>-0.009063</td>\n",
              "      <td>-0.002146</td>\n",
              "      <td>-0.005445</td>\n",
              "      <td>-0.004156</td>\n",
              "      <td>-0.012503</td>\n",
              "      <td>-0.001354</td>\n",
              "      <td>0.003675</td>\n",
              "      <td>-0.003656</td>\n",
              "      <td>0.002695</td>\n",
              "      <td>-0.005953</td>\n",
              "      <td>-0.011281</td>\n",
              "      <td>-0.001958</td>\n",
              "      <td>0.006844</td>\n",
              "      <td>0.007499</td>\n",
              "      <td>-0.019218</td>\n",
              "    </tr>\n",
              "  </tbody>\n",
              "</table>\n",
              "</div>"
            ],
            "text/plain": [
              "                AAPL       AXP        BA  ...        VZ       WMT       XOM\n",
              "Date                                      ...                              \n",
              "2015-01-06  0.000094 -0.021312 -0.011778  ...  0.010093  0.007706 -0.005316\n",
              "2015-01-07  0.014022  0.021840  0.015526  ... -0.006453  0.026532  0.010133\n",
              "2015-01-08  0.038422  0.014175  0.017682  ...  0.021434  0.021106  0.016644\n",
              "2015-01-09  0.001072 -0.012667 -0.001973  ... -0.008902 -0.012380 -0.001409\n",
              "2015-01-12 -0.024641 -0.010175 -0.005094  ...  0.006844  0.007499 -0.019218\n",
              "\n",
              "[5 rows x 30 columns]"
            ]
          },
          "metadata": {},
          "execution_count": 321
        }
      ]
    },
    {
      "cell_type": "code",
      "metadata": {
        "colab": {
          "base_uri": "https://localhost:8080/",
          "height": 343
        },
        "id": "MGQ950eV4vOM",
        "outputId": "af0fb5cc-eb90-4af9-d0fb-6ab184c6b53f"
      },
      "source": [
        "returns_selected = np.log(data_selected/data_selected.shift(1))\n",
        "returns_selected.head()"
      ],
      "execution_count": null,
      "outputs": [
        {
          "output_type": "execute_result",
          "data": {
            "text/html": [
              "<div>\n",
              "<style scoped>\n",
              "    .dataframe tbody tr th:only-of-type {\n",
              "        vertical-align: middle;\n",
              "    }\n",
              "\n",
              "    .dataframe tbody tr th {\n",
              "        vertical-align: top;\n",
              "    }\n",
              "\n",
              "    .dataframe thead th {\n",
              "        text-align: right;\n",
              "    }\n",
              "</style>\n",
              "<table border=\"1\" class=\"dataframe\">\n",
              "  <thead>\n",
              "    <tr style=\"text-align: right;\">\n",
              "      <th></th>\n",
              "      <th>AAPL</th>\n",
              "      <th>AXP</th>\n",
              "      <th>BA</th>\n",
              "      <th>CSCO</th>\n",
              "      <th>CVX</th>\n",
              "      <th>DIS</th>\n",
              "      <th>HD</th>\n",
              "      <th>INTC</th>\n",
              "      <th>JNJ</th>\n",
              "      <th>KO</th>\n",
              "      <th>MCD</th>\n",
              "      <th>MMM</th>\n",
              "      <th>MSFT</th>\n",
              "      <th>PG</th>\n",
              "      <th>T</th>\n",
              "      <th>TRV</th>\n",
              "      <th>UNH</th>\n",
              "      <th>V</th>\n",
              "      <th>VZ</th>\n",
              "      <th>WMT</th>\n",
              "    </tr>\n",
              "    <tr>\n",
              "      <th>Date</th>\n",
              "      <th></th>\n",
              "      <th></th>\n",
              "      <th></th>\n",
              "      <th></th>\n",
              "      <th></th>\n",
              "      <th></th>\n",
              "      <th></th>\n",
              "      <th></th>\n",
              "      <th></th>\n",
              "      <th></th>\n",
              "      <th></th>\n",
              "      <th></th>\n",
              "      <th></th>\n",
              "      <th></th>\n",
              "      <th></th>\n",
              "      <th></th>\n",
              "      <th></th>\n",
              "      <th></th>\n",
              "      <th></th>\n",
              "      <th></th>\n",
              "    </tr>\n",
              "  </thead>\n",
              "  <tbody>\n",
              "    <tr>\n",
              "      <th>2015-01-05</th>\n",
              "      <td>NaN</td>\n",
              "      <td>NaN</td>\n",
              "      <td>NaN</td>\n",
              "      <td>NaN</td>\n",
              "      <td>NaN</td>\n",
              "      <td>NaN</td>\n",
              "      <td>NaN</td>\n",
              "      <td>NaN</td>\n",
              "      <td>NaN</td>\n",
              "      <td>NaN</td>\n",
              "      <td>NaN</td>\n",
              "      <td>NaN</td>\n",
              "      <td>NaN</td>\n",
              "      <td>NaN</td>\n",
              "      <td>NaN</td>\n",
              "      <td>NaN</td>\n",
              "      <td>NaN</td>\n",
              "      <td>NaN</td>\n",
              "      <td>NaN</td>\n",
              "      <td>NaN</td>\n",
              "    </tr>\n",
              "    <tr>\n",
              "      <th>2015-01-06</th>\n",
              "      <td>0.000094</td>\n",
              "      <td>-0.021542</td>\n",
              "      <td>-0.011848</td>\n",
              "      <td>-0.000370</td>\n",
              "      <td>-0.000463</td>\n",
              "      <td>-0.005318</td>\n",
              "      <td>-0.003066</td>\n",
              "      <td>-0.018812</td>\n",
              "      <td>-0.004926</td>\n",
              "      <td>0.007565</td>\n",
              "      <td>0.001842</td>\n",
              "      <td>-0.010721</td>\n",
              "      <td>-0.014786</td>\n",
              "      <td>-0.004565</td>\n",
              "      <td>0.001489</td>\n",
              "      <td>-0.008968</td>\n",
              "      <td>-0.002020</td>\n",
              "      <td>-0.006465</td>\n",
              "      <td>0.010042</td>\n",
              "      <td>0.007676</td>\n",
              "    </tr>\n",
              "    <tr>\n",
              "      <th>2015-01-07</th>\n",
              "      <td>0.013925</td>\n",
              "      <td>0.021605</td>\n",
              "      <td>0.015406</td>\n",
              "      <td>0.009200</td>\n",
              "      <td>-0.000833</td>\n",
              "      <td>0.010178</td>\n",
              "      <td>0.033700</td>\n",
              "      <td>0.020758</td>\n",
              "      <td>0.021836</td>\n",
              "      <td>0.012405</td>\n",
              "      <td>0.017274</td>\n",
              "      <td>0.007223</td>\n",
              "      <td>0.012625</td>\n",
              "      <td>0.005232</td>\n",
              "      <td>0.001206</td>\n",
              "      <td>0.016904</td>\n",
              "      <td>0.010159</td>\n",
              "      <td>0.013309</td>\n",
              "      <td>-0.006474</td>\n",
              "      <td>0.026186</td>\n",
              "    </tr>\n",
              "    <tr>\n",
              "      <th>2015-01-08</th>\n",
              "      <td>0.037702</td>\n",
              "      <td>0.014076</td>\n",
              "      <td>0.017528</td>\n",
              "      <td>0.007663</td>\n",
              "      <td>0.022625</td>\n",
              "      <td>0.010288</td>\n",
              "      <td>0.021883</td>\n",
              "      <td>0.018430</td>\n",
              "      <td>0.007832</td>\n",
              "      <td>0.012023</td>\n",
              "      <td>0.003716</td>\n",
              "      <td>0.023685</td>\n",
              "      <td>0.028994</td>\n",
              "      <td>0.011370</td>\n",
              "      <td>0.009900</td>\n",
              "      <td>0.020549</td>\n",
              "      <td>0.046629</td>\n",
              "      <td>0.013324</td>\n",
              "      <td>0.021207</td>\n",
              "      <td>0.020886</td>\n",
              "    </tr>\n",
              "    <tr>\n",
              "      <th>2015-01-09</th>\n",
              "      <td>0.001072</td>\n",
              "      <td>-0.012748</td>\n",
              "      <td>-0.001975</td>\n",
              "      <td>0.010127</td>\n",
              "      <td>-0.020127</td>\n",
              "      <td>0.004892</td>\n",
              "      <td>-0.017296</td>\n",
              "      <td>0.001906</td>\n",
              "      <td>-0.013723</td>\n",
              "      <td>-0.011093</td>\n",
              "      <td>-0.012262</td>\n",
              "      <td>-0.012360</td>\n",
              "      <td>-0.008441</td>\n",
              "      <td>-0.009374</td>\n",
              "      <td>-0.002990</td>\n",
              "      <td>-0.012676</td>\n",
              "      <td>-0.009404</td>\n",
              "      <td>-0.014934</td>\n",
              "      <td>-0.008942</td>\n",
              "      <td>-0.012457</td>\n",
              "    </tr>\n",
              "  </tbody>\n",
              "</table>\n",
              "</div>"
            ],
            "text/plain": [
              "                AAPL       AXP        BA  ...         V        VZ       WMT\n",
              "Date                                      ...                              \n",
              "2015-01-05       NaN       NaN       NaN  ...       NaN       NaN       NaN\n",
              "2015-01-06  0.000094 -0.021542 -0.011848  ... -0.006465  0.010042  0.007676\n",
              "2015-01-07  0.013925  0.021605  0.015406  ...  0.013309 -0.006474  0.026186\n",
              "2015-01-08  0.037702  0.014076  0.017528  ...  0.013324  0.021207  0.020886\n",
              "2015-01-09  0.001072 -0.012748 -0.001975  ... -0.014934 -0.008942 -0.012457\n",
              "\n",
              "[5 rows x 20 columns]"
            ]
          },
          "metadata": {},
          "execution_count": 322
        }
      ]
    },
    {
      "cell_type": "code",
      "metadata": {
        "id": "G3lk8giv44MY"
      },
      "source": [],
      "execution_count": null,
      "outputs": []
    },
    {
      "cell_type": "code",
      "metadata": {
        "colab": {
          "base_uri": "https://localhost:8080/"
        },
        "id": "bRAiOl8h31ks",
        "outputId": "0beb8bc1-d63e-4636-fc5f-3e4fe48ff3cf"
      },
      "source": [
        "daily_returns_portfolio_mean = returns_selected.mean()\n",
        "print(\"return of these stocks is\",daily_returns_portfolio_mean*100, \" percentage\")"
      ],
      "execution_count": null,
      "outputs": [
        {
          "output_type": "stream",
          "name": "stdout",
          "text": [
            "return of these stocks is AAPL    0.086767\n",
            "AXP     0.032044\n",
            "BA      0.085115\n",
            "CSCO    0.057318\n",
            "CVX     0.024854\n",
            "DIS     0.041977\n",
            "HD      0.070876\n",
            "INTC    0.052078\n",
            "JNJ     0.038023\n",
            "KO      0.034742\n",
            "MCD     0.072040\n",
            "MMM     0.018753\n",
            "MSFT    0.106915\n",
            "PG      0.039457\n",
            "T       0.034237\n",
            "TRV     0.030866\n",
            "UNH     0.093503\n",
            "V       0.088300\n",
            "VZ      0.040316\n",
            "WMT     0.036593\n",
            "dtype: float64  percentage\n"
          ]
        }
      ]
    },
    {
      "cell_type": "code",
      "metadata": {
        "colab": {
          "base_uri": "https://localhost:8080/"
        },
        "id": "0cRxltTlfwTp",
        "outputId": "b9ca95fd-c45c-4cda-d707-e67b170b19eb"
      },
      "source": [
        "weights = [0.09, 0.02, 0.09, 0.06, 0.04, 0.02, 0.09, 0.02, 0.06,0.02, 0.03, 0.01, 0.09, 0.01, 0.01, 0.04, 0.1, 0.09, 0.01, 0.01]\n",
        "weight = np.array([[0.09], [0.02], [0.09], [0.06], [0.04], [0.02], [0.09], [0.02], [0.06], [0.02], [0.03], [0.01], [0.09], [0.01], [0.01], [0.04], [0.1], [0.09], [0.01], [0.01]])\n",
        "print(len(weight))\n",
        "print(weight)\n",
        "np.sum(weight)"
      ],
      "execution_count": null,
      "outputs": [
        {
          "output_type": "stream",
          "name": "stdout",
          "text": [
            "20\n",
            "[[0.09]\n",
            " [0.02]\n",
            " [0.09]\n",
            " [0.06]\n",
            " [0.04]\n",
            " [0.02]\n",
            " [0.09]\n",
            " [0.02]\n",
            " [0.06]\n",
            " [0.02]\n",
            " [0.03]\n",
            " [0.01]\n",
            " [0.09]\n",
            " [0.01]\n",
            " [0.01]\n",
            " [0.04]\n",
            " [0.1 ]\n",
            " [0.09]\n",
            " [0.01]\n",
            " [0.01]]\n"
          ]
        },
        {
          "output_type": "execute_result",
          "data": {
            "text/plain": [
              "0.9099999999999999"
            ]
          },
          "metadata": {},
          "execution_count": 324
        }
      ]
    },
    {
      "cell_type": "code",
      "metadata": {
        "colab": {
          "base_uri": "https://localhost:8080/"
        },
        "id": "poIz_naE5XRz",
        "outputId": "c1f4f2b2-e545-417f-a532-161aaa23fa71"
      },
      "source": [
        "annual_return = daily_returns_portfolio_mean*252\n",
        "annual_return"
      ],
      "execution_count": null,
      "outputs": [
        {
          "output_type": "execute_result",
          "data": {
            "text/plain": [
              "AAPL    0.218654\n",
              "AXP     0.080751\n",
              "BA      0.214491\n",
              "CSCO    0.144441\n",
              "CVX     0.062633\n",
              "DIS     0.105782\n",
              "HD      0.178607\n",
              "INTC    0.131237\n",
              "JNJ     0.095819\n",
              "KO      0.087549\n",
              "MCD     0.181541\n",
              "MMM     0.047256\n",
              "MSFT    0.269426\n",
              "PG      0.099431\n",
              "T       0.086277\n",
              "TRV     0.077783\n",
              "UNH     0.235628\n",
              "V       0.222516\n",
              "VZ      0.101596\n",
              "WMT     0.092215\n",
              "dtype: float64"
            ]
          },
          "metadata": {},
          "execution_count": 325
        }
      ]
    },
    {
      "cell_type": "code",
      "metadata": {
        "colab": {
          "base_uri": "https://localhost:8080/"
        },
        "id": "omnXkXbFxHpX",
        "outputId": "7095b400-a449-4302-fa66-fc2589feeea6"
      },
      "source": [
        "weighted_returns = (weights*annual_return)\n",
        "weighted_returns"
      ],
      "execution_count": null,
      "outputs": [
        {
          "output_type": "execute_result",
          "data": {
            "text/plain": [
              "AAPL    0.019679\n",
              "AXP     0.001615\n",
              "BA      0.019304\n",
              "CSCO    0.008666\n",
              "CVX     0.002505\n",
              "DIS     0.002116\n",
              "HD      0.016075\n",
              "INTC    0.002625\n",
              "JNJ     0.005749\n",
              "KO      0.001751\n",
              "MCD     0.005446\n",
              "MMM     0.000473\n",
              "MSFT    0.024248\n",
              "PG      0.000994\n",
              "T       0.000863\n",
              "TRV     0.003111\n",
              "UNH     0.023563\n",
              "V       0.020026\n",
              "VZ      0.001016\n",
              "WMT     0.000922\n",
              "dtype: float64"
            ]
          },
          "metadata": {},
          "execution_count": 326
        }
      ]
    },
    {
      "cell_type": "code",
      "metadata": {
        "colab": {
          "base_uri": "https://localhost:8080/"
        },
        "id": "WoQ5lg8z1f18",
        "outputId": "053b662f-c7c5-4769-a768-bc7df9d61fc8"
      },
      "source": [
        "np.sum(weighted_returns)"
      ],
      "execution_count": null,
      "outputs": [
        {
          "output_type": "execute_result",
          "data": {
            "text/plain": [
              "0.16074786896197601"
            ]
          },
          "metadata": {},
          "execution_count": 327
        }
      ]
    },
    {
      "cell_type": "code",
      "metadata": {
        "colab": {
          "base_uri": "https://localhost:8080/"
        },
        "id": "EExwuLUHEPgt",
        "outputId": "17fb156d-4da6-4ac8-98f5-321763627729"
      },
      "source": [
        "weight.T"
      ],
      "execution_count": null,
      "outputs": [
        {
          "output_type": "execute_result",
          "data": {
            "text/plain": [
              "array([[0.09, 0.02, 0.09, 0.06, 0.04, 0.02, 0.09, 0.02, 0.06, 0.02, 0.03,\n",
              "        0.01, 0.09, 0.01, 0.01, 0.04, 0.1 , 0.09, 0.01, 0.01]])"
            ]
          },
          "metadata": {},
          "execution_count": 328
        }
      ]
    },
    {
      "cell_type": "code",
      "metadata": {
        "colab": {
          "base_uri": "https://localhost:8080/",
          "height": 225
        },
        "id": "mev6Ysay53xt",
        "outputId": "f5117b99-cba4-4484-d3e3-d0ce36a5cc4c"
      },
      "source": [
        "covariance = returns_selected.cov()*252\n",
        "covariance.head()"
      ],
      "execution_count": null,
      "outputs": [
        {
          "output_type": "execute_result",
          "data": {
            "text/html": [
              "<div>\n",
              "<style scoped>\n",
              "    .dataframe tbody tr th:only-of-type {\n",
              "        vertical-align: middle;\n",
              "    }\n",
              "\n",
              "    .dataframe tbody tr th {\n",
              "        vertical-align: top;\n",
              "    }\n",
              "\n",
              "    .dataframe thead th {\n",
              "        text-align: right;\n",
              "    }\n",
              "</style>\n",
              "<table border=\"1\" class=\"dataframe\">\n",
              "  <thead>\n",
              "    <tr style=\"text-align: right;\">\n",
              "      <th></th>\n",
              "      <th>AAPL</th>\n",
              "      <th>AXP</th>\n",
              "      <th>BA</th>\n",
              "      <th>CSCO</th>\n",
              "      <th>CVX</th>\n",
              "      <th>DIS</th>\n",
              "      <th>HD</th>\n",
              "      <th>INTC</th>\n",
              "      <th>JNJ</th>\n",
              "      <th>KO</th>\n",
              "      <th>MCD</th>\n",
              "      <th>MMM</th>\n",
              "      <th>MSFT</th>\n",
              "      <th>PG</th>\n",
              "      <th>T</th>\n",
              "      <th>TRV</th>\n",
              "      <th>UNH</th>\n",
              "      <th>V</th>\n",
              "      <th>VZ</th>\n",
              "      <th>WMT</th>\n",
              "    </tr>\n",
              "  </thead>\n",
              "  <tbody>\n",
              "    <tr>\n",
              "      <th>AAPL</th>\n",
              "      <td>0.061851</td>\n",
              "      <td>0.018297</td>\n",
              "      <td>0.025715</td>\n",
              "      <td>0.028573</td>\n",
              "      <td>0.017827</td>\n",
              "      <td>0.018327</td>\n",
              "      <td>0.018847</td>\n",
              "      <td>0.031058</td>\n",
              "      <td>0.012200</td>\n",
              "      <td>0.008364</td>\n",
              "      <td>0.011189</td>\n",
              "      <td>0.020894</td>\n",
              "      <td>0.033313</td>\n",
              "      <td>0.010405</td>\n",
              "      <td>0.011159</td>\n",
              "      <td>0.013326</td>\n",
              "      <td>0.018988</td>\n",
              "      <td>0.027012</td>\n",
              "      <td>0.007147</td>\n",
              "      <td>0.011405</td>\n",
              "    </tr>\n",
              "    <tr>\n",
              "      <th>AXP</th>\n",
              "      <td>0.018297</td>\n",
              "      <td>0.042704</td>\n",
              "      <td>0.020182</td>\n",
              "      <td>0.018993</td>\n",
              "      <td>0.015667</td>\n",
              "      <td>0.014671</td>\n",
              "      <td>0.016694</td>\n",
              "      <td>0.019248</td>\n",
              "      <td>0.011528</td>\n",
              "      <td>0.008016</td>\n",
              "      <td>0.009154</td>\n",
              "      <td>0.016817</td>\n",
              "      <td>0.021326</td>\n",
              "      <td>0.009042</td>\n",
              "      <td>0.009724</td>\n",
              "      <td>0.014247</td>\n",
              "      <td>0.017353</td>\n",
              "      <td>0.021726</td>\n",
              "      <td>0.008141</td>\n",
              "      <td>0.009963</td>\n",
              "    </tr>\n",
              "    <tr>\n",
              "      <th>BA</th>\n",
              "      <td>0.025715</td>\n",
              "      <td>0.020182</td>\n",
              "      <td>0.063918</td>\n",
              "      <td>0.023579</td>\n",
              "      <td>0.020841</td>\n",
              "      <td>0.017325</td>\n",
              "      <td>0.019554</td>\n",
              "      <td>0.024997</td>\n",
              "      <td>0.014615</td>\n",
              "      <td>0.009459</td>\n",
              "      <td>0.010712</td>\n",
              "      <td>0.021992</td>\n",
              "      <td>0.024617</td>\n",
              "      <td>0.010522</td>\n",
              "      <td>0.012174</td>\n",
              "      <td>0.015552</td>\n",
              "      <td>0.018089</td>\n",
              "      <td>0.022887</td>\n",
              "      <td>0.009886</td>\n",
              "      <td>0.012975</td>\n",
              "    </tr>\n",
              "    <tr>\n",
              "      <th>CSCO</th>\n",
              "      <td>0.028573</td>\n",
              "      <td>0.018993</td>\n",
              "      <td>0.023579</td>\n",
              "      <td>0.050986</td>\n",
              "      <td>0.021104</td>\n",
              "      <td>0.019370</td>\n",
              "      <td>0.019394</td>\n",
              "      <td>0.031213</td>\n",
              "      <td>0.015536</td>\n",
              "      <td>0.009740</td>\n",
              "      <td>0.012452</td>\n",
              "      <td>0.021963</td>\n",
              "      <td>0.031098</td>\n",
              "      <td>0.012138</td>\n",
              "      <td>0.013891</td>\n",
              "      <td>0.015576</td>\n",
              "      <td>0.017087</td>\n",
              "      <td>0.024660</td>\n",
              "      <td>0.011471</td>\n",
              "      <td>0.014240</td>\n",
              "    </tr>\n",
              "    <tr>\n",
              "      <th>CVX</th>\n",
              "      <td>0.017827</td>\n",
              "      <td>0.015667</td>\n",
              "      <td>0.020841</td>\n",
              "      <td>0.021104</td>\n",
              "      <td>0.048367</td>\n",
              "      <td>0.013224</td>\n",
              "      <td>0.014883</td>\n",
              "      <td>0.020777</td>\n",
              "      <td>0.012028</td>\n",
              "      <td>0.009218</td>\n",
              "      <td>0.009741</td>\n",
              "      <td>0.018212</td>\n",
              "      <td>0.020551</td>\n",
              "      <td>0.010356</td>\n",
              "      <td>0.013863</td>\n",
              "      <td>0.013897</td>\n",
              "      <td>0.014333</td>\n",
              "      <td>0.016948</td>\n",
              "      <td>0.012120</td>\n",
              "      <td>0.010128</td>\n",
              "    </tr>\n",
              "  </tbody>\n",
              "</table>\n",
              "</div>"
            ],
            "text/plain": [
              "          AAPL       AXP        BA  ...         V        VZ       WMT\n",
              "AAPL  0.061851  0.018297  0.025715  ...  0.027012  0.007147  0.011405\n",
              "AXP   0.018297  0.042704  0.020182  ...  0.021726  0.008141  0.009963\n",
              "BA    0.025715  0.020182  0.063918  ...  0.022887  0.009886  0.012975\n",
              "CSCO  0.028573  0.018993  0.023579  ...  0.024660  0.011471  0.014240\n",
              "CVX   0.017827  0.015667  0.020841  ...  0.016948  0.012120  0.010128\n",
              "\n",
              "[5 rows x 20 columns]"
            ]
          },
          "metadata": {},
          "execution_count": 329
        }
      ]
    },
    {
      "cell_type": "code",
      "metadata": {
        "id": "NN2jaCuWGyhE"
      },
      "source": [
        "\n"
      ],
      "execution_count": null,
      "outputs": []
    },
    {
      "cell_type": "code",
      "metadata": {
        "colab": {
          "base_uri": "https://localhost:8080/"
        },
        "id": "bmIz9UxwBzV9",
        "outputId": "7f1ecf77-2d7c-4f69-a277-05dfd3a66b51"
      },
      "source": [
        "total_risk = np.matmul(np.transpose(weight), np.matmul(covariance.values, weight))\n",
        "print(total_risk)"
      ],
      "execution_count": null,
      "outputs": [
        {
          "output_type": "stream",
          "name": "stdout",
          "text": [
            "[[0.01674121]]\n"
          ]
        }
      ]
    },
    {
      "cell_type": "code",
      "metadata": {
        "colab": {
          "base_uri": "https://localhost:8080/"
        },
        "id": "QVPE349GHyk1",
        "outputId": "1b85e77e-8b05-43ed-80f6-378505381da2"
      },
      "source": [
        "risk_pect = np.sqrt(total_risk)\n",
        "print(\"total risk in percentage is \",risk_pect*100, \"%\" )"
      ],
      "execution_count": null,
      "outputs": [
        {
          "output_type": "stream",
          "name": "stdout",
          "text": [
            "total risk in percentage is  [[12.93878123]] %\n"
          ]
        }
      ]
    },
    {
      "cell_type": "code",
      "metadata": {
        "colab": {
          "base_uri": "https://localhost:8080/"
        },
        "id": "B8IMBHFj8VR_",
        "outputId": "2b3244d1-26c0-40f3-b24a-f13cb58f9ff4"
      },
      "source": [
        "total_weights = weights*annual_return*100\n",
        "print(\" in percent\", total_weights)\n",
        "np.sum(total_weights)"
      ],
      "execution_count": null,
      "outputs": [
        {
          "output_type": "stream",
          "name": "stdout",
          "text": [
            " in percent AAPL    1.967886\n",
            "AXP     0.161502\n",
            "BA      1.930418\n",
            "CSCO    0.866648\n",
            "CVX     0.250533\n",
            "DIS     0.211564\n",
            "HD      1.607463\n",
            "INTC    0.262473\n",
            "JNJ     0.574913\n",
            "KO      0.175097\n",
            "MCD     0.544624\n",
            "MMM     0.047256\n",
            "MSFT    2.424837\n",
            "PG      0.099431\n",
            "T       0.086277\n",
            "TRV     0.311131\n",
            "UNH     2.356276\n",
            "V       2.002646\n",
            "VZ      0.101596\n",
            "WMT     0.092215\n",
            "dtype: float64\n"
          ]
        },
        {
          "output_type": "execute_result",
          "data": {
            "text/plain": [
              "16.074786896197597"
            ]
          },
          "metadata": {},
          "execution_count": 332
        }
      ]
    },
    {
      "cell_type": "code",
      "metadata": {
        "colab": {
          "base_uri": "https://localhost:8080/"
        },
        "id": "S4qT4EKN7yT4",
        "outputId": "b3e461db-e5df-4724-aeed-28cee5e85119"
      },
      "source": [
        "exp_return = total_weights.mean()\n",
        "exp_return"
      ],
      "execution_count": null,
      "outputs": [
        {
          "output_type": "execute_result",
          "data": {
            "text/plain": [
              "0.8037393448098797"
            ]
          },
          "metadata": {},
          "execution_count": 333
        }
      ]
    },
    {
      "cell_type": "code",
      "metadata": {
        "colab": {
          "base_uri": "https://localhost:8080/"
        },
        "id": "rltGdObRKFbe",
        "outputId": "3b108854-099e-4393-db04-350b3852c399"
      },
      "source": [
        "exp_var = np.dot(weights,np.dot(returns_selected.cov()*250,weights)) #QUBO\n",
        "print(\"expected portfolio variance:\",exp_var)"
      ],
      "execution_count": null,
      "outputs": [
        {
          "output_type": "stream",
          "name": "stdout",
          "text": [
            "expected portfolio variance: 0.01660833925214377\n"
          ]
        }
      ]
    },
    {
      "cell_type": "code",
      "metadata": {
        "colab": {
          "base_uri": "https://localhost:8080/"
        },
        "id": "P_r9dg0uKjCT",
        "outputId": "fbc264a6-39f9-4e25-e56c-c2a5790fde3f"
      },
      "source": [
        "sharpe_ratio = exp_return/exp_var\n",
        "sharpe_ratio"
      ],
      "execution_count": null,
      "outputs": [
        {
          "output_type": "execute_result",
          "data": {
            "text/plain": [
              "48.39372152794475"
            ]
          },
          "metadata": {},
          "execution_count": 335
        }
      ]
    },
    {
      "cell_type": "code",
      "metadata": {
        "colab": {
          "base_uri": "https://localhost:8080/"
        },
        "id": "EQ3wsEu1OX3b",
        "outputId": "e4bf4fab-3974-46d5-9a48-037e0f2e8e71"
      },
      "source": [
        "# Calculate the Log of returns.\n",
        "number_of_symbols =len(assets)\n",
        "#calculating returns from data\n",
        "log_return = np.log(1 + data.pct_change())\n",
        "\n",
        "# Generate Random Weights.\n",
        "random_weights = np.array(np.random.random(number_of_symbols))\n",
        "\n",
        "# Generate the Rebalance Weights, these should equal 1.\n",
        "rebalance_weights = random_weights / np.sum(random_weights)\n",
        "\n",
        "# Calculate the Expected Returns, annualize it by multiplying it by `252`.\n",
        "exp_ret = np.sum((log_return.mean() * rebalance_weights) * 252)\n",
        "\n",
        "# Calculate the Expected Volatility, annualize it by multiplying it by `252`.\n",
        "exp_vol = np.sqrt(\n",
        "np.dot(\n",
        "    rebalance_weights.T,\n",
        "    np.dot(\n",
        "        log_return.cov() * 252,\n",
        "        rebalance_weights\n",
        "    )\n",
        ")\n",
        ")\n",
        "\n",
        "\n",
        "# Calculate the Sharpe Ratio.\n",
        "sharpe_rati = exp_ret / exp_vol\n",
        "\n",
        "# Put the weights into a data frame to see them better.\n",
        "weights_df = pd.DataFrame(data={\n",
        "'random_weights': random_weights,\n",
        "'rebalance_weights': rebalance_weights\n",
        "})\n",
        "print('')\n",
        "print('='*80)\n",
        "print('PORTFOLIO WEIGHTS:')\n",
        "print('-'*80)\n",
        "print(weights_df)\n",
        "print('-'*80)\n",
        "\n",
        "# Do the same with the other metrics.\n",
        "metrics_df = pd.DataFrame(data={\n",
        "    'Expected Portfolio Returns': exp_ret,\n",
        "    'Expected Portfolio Volatility': exp_vol,\n",
        "    'Portfolio Sharpe Ratio': sharpe_rati\n",
        "}, index=[0])\n",
        "\n",
        "print(\"expected return \",exp_ret*100, \"percentage\" )\n",
        "print('='*80)\n",
        "print(exp_vol*100, \"expected volatility\")\n",
        "print('-'*80)\n",
        "print(sharpe_rati*100, \"sharpe ratio is\")\n",
        "print('-'*80)"
      ],
      "execution_count": null,
      "outputs": [
        {
          "output_type": "stream",
          "name": "stdout",
          "text": [
            "\n",
            "================================================================================\n",
            "PORTFOLIO WEIGHTS:\n",
            "--------------------------------------------------------------------------------\n",
            "    random_weights  rebalance_weights\n",
            "0         0.100757           0.006771\n",
            "1         0.593961           0.039917\n",
            "2         0.540197           0.036303\n",
            "3         0.148249           0.009963\n",
            "4         0.908383           0.061047\n",
            "5         0.125369           0.008425\n",
            "6         0.765791           0.051464\n",
            "7         0.667743           0.044875\n",
            "8         0.261698           0.017587\n",
            "9         0.796966           0.053559\n",
            "10        0.862614           0.057971\n",
            "11        0.038263           0.002571\n",
            "12        0.819957           0.055104\n",
            "13        0.680364           0.045723\n",
            "14        0.138661           0.009319\n",
            "15        0.917116           0.061634\n",
            "16        0.218674           0.014696\n",
            "17        0.182547           0.012268\n",
            "18        0.330167           0.022189\n",
            "19        0.487416           0.032756\n",
            "20        0.760328           0.051097\n",
            "21        0.118737           0.007980\n",
            "22        0.483895           0.032520\n",
            "23        0.657301           0.044173\n",
            "24        0.561287           0.037721\n",
            "25        0.424217           0.028509\n",
            "26        0.114113           0.007669\n",
            "27        0.605977           0.040724\n",
            "28        0.854891           0.057452\n",
            "29        0.714442           0.048013\n",
            "--------------------------------------------------------------------------------\n",
            "expected return  11.07530685867999 percentage\n",
            "================================================================================\n",
            "12.903427784255584 expected volatility\n",
            "--------------------------------------------------------------------------------\n",
            "85.83228459800257 sharpe ratio is\n",
            "--------------------------------------------------------------------------------\n"
          ]
        }
      ]
    },
    {
      "cell_type": "code",
      "metadata": {
        "id": "vnoI2BtmKTpm"
      },
      "source": [
        "#defined functions of returns, weights, volatility, and sharpe ratio to feed to the optimizer function\n",
        "\n",
        "def get_metrics(weights: list) -> np.array:\n",
        "\n",
        "    # Convert to a Numpy Array.\n",
        "    weights = np.array(weights)\n",
        "\n",
        "    # Calculate the returns, remember to annualize them (252).\n",
        "    ret = np.sum(log_return.mean() * weights) * 252\n",
        "\n",
        "    # Calculate the volatility, remember to annualize them (252).\n",
        "    vol = np.sqrt(\n",
        "        np.dot(weights.T, np.dot(log_return.cov() * 252, weights))\n",
        "    )\n",
        "\n",
        "    # Calculate the Sharpe Ratio.\n",
        "    sr = ret / vol\n",
        "\n",
        "    return np.array([ret, vol, sr])\n",
        "\n",
        "def grab_negative_sharpe(weights: list) -> np.array:\n",
        "\n",
        "    return get_metrics(weights)[2]*(-1)\n",
        "\n",
        "def grab_volatility(weights: list) -> np.array:\n",
        "\n",
        "    return get_metrics(weights)[1]\n",
        "\n",
        "def check_sum(weights: list) -> float:\n",
        "\n",
        "      return np.sum(weights) - 1\n",
        "\n",
        "# def sum_check(weights: list) -> float:\n",
        "\n",
        "#     return np.sum(weights[0]) - 0.1\n",
        "\n",
        "def constraint1(weights: list):\n",
        "    return weights[0]+weights[1]+weights[2]+weights[3] + weights[4] + 0.5"
      ],
      "execution_count": null,
      "outputs": []
    },
    {
      "cell_type": "code",
      "metadata": {
        "id": "8D6xyHS3PbyV"
      },
      "source": [
        "import scipy.optimize as sci_opt"
      ],
      "execution_count": null,
      "outputs": []
    },
    {
      "cell_type": "code",
      "metadata": {
        "colab": {
          "base_uri": "https://localhost:8080/"
        },
        "id": "u0V0HSnmOKm7",
        "outputId": "aeec29c2-37c3-46f0-d8c8-6dd86f9e10f1"
      },
      "source": [
        "#running an optimizer for sharpe ratio\n",
        "\n",
        "# Define the boundaries for each symbol. Remember I can only invest up to 100% of my capital into a single asset.\n",
        "bounds = tuple((0.01, 1) for symbol in range(number_of_symbols))\n",
        "\n",
        "# Define the constraints, here I'm saying that the sum of each weight must not exceed 100%.\n",
        "constraints = ({'type': 'eq', 'fun': check_sum}, {'type': 'ineq', 'fun': constraint1} )\n",
        "\n",
        "# We need to create an initial guess to start with,\n",
        "# and usually the best initial guess is just an\n",
        "# even distribution. In this case 25% for each of the 4 stocks.\n",
        "init_guess = number_of_symbols * [1 / number_of_symbols]\n",
        "print(len(init_guess))\n",
        "\n",
        "\n",
        "# Perform the operation to minimize the risk.\n",
        "optimized_sharpe = sci_opt.minimize(\n",
        "    grab_negative_sharpe, # minimize this.\n",
        "    init_guess, # Start with these values.\n",
        "    method='SLSQP',\n",
        "    bounds=bounds, # don't exceed these bounds.\n",
        "    constraints=constraints, # make sure you don't exceed the 100% constraint.\n",
        "    options = {'maxiter' : '1000'}\n",
        ")\n",
        "\n",
        "# Print the results.\n",
        "print('')\n",
        "print('='*80)\n",
        "print('OPTIMIZED SHARPE RATIO:')\n",
        "print('-'*80)\n",
        "print(optimized_sharpe)\n",
        "print('-'*80)"
      ],
      "execution_count": null,
      "outputs": [
        {
          "output_type": "stream",
          "name": "stdout",
          "text": [
            "30\n",
            "\n",
            "================================================================================\n",
            "OPTIMIZED SHARPE RATIO:\n",
            "--------------------------------------------------------------------------------\n",
            "     fun: -1.367448328667949\n",
            "     jac: array([-0.1416809 ,  0.57062005, -0.14818642,  0.43831593,  0.37290141,\n",
            "        0.66987769,  1.11884522,  0.22735234,  2.01899895,  1.04954028,\n",
            "       -0.12754421,  1.0890768 ,  0.48835899,  0.20875122, -0.06154539,\n",
            "        0.04581487, -0.14903764,  0.81883833,  0.12755416, -0.14887175,\n",
            "        0.00289553,  0.39673118,  0.02560638,  0.12569064,  0.46652968,\n",
            "       -0.1491349 , -0.14951879, -0.01572621,  0.16542815,  1.09560145])\n",
            " message: 'Optimization terminated successfully.'\n",
            "    nfev: 226\n",
            "     nit: 7\n",
            "    njev: 7\n",
            "  status: 0\n",
            " success: True\n",
            "       x: array([0.01      , 0.01      , 0.04069779, 0.01      , 0.01      ,\n",
            "       0.01      , 0.01      , 0.01      , 0.01      , 0.01      ,\n",
            "       0.01      , 0.01      , 0.01      , 0.01      , 0.01      ,\n",
            "       0.01      , 0.27927931, 0.01      , 0.01      , 0.15334337,\n",
            "       0.01      , 0.01      , 0.01      , 0.01      , 0.01      ,\n",
            "       0.21609921, 0.06058031, 0.01      , 0.01      , 0.01      ])\n",
            "--------------------------------------------------------------------------------\n"
          ]
        }
      ]
    },
    {
      "cell_type": "code",
      "metadata": {
        "colab": {
          "base_uri": "https://localhost:8080/"
        },
        "id": "k0fYeTTHOKwP",
        "outputId": "09a81da6-a39b-4cee-ccba-8a79a3cb94b0"
      },
      "source": [
        "optimized_sharpe.x*100"
      ],
      "execution_count": null,
      "outputs": [
        {
          "output_type": "execute_result",
          "data": {
            "text/plain": [
              "array([5.00000000e+00, 8.22030547e-13, 5.00000000e+00, 2.08862019e+00,\n",
              "       5.00000000e+00, 4.71246279e-13, 1.35926032e-12, 5.00000000e+00,\n",
              "       1.58587868e-12, 2.25329700e-12, 5.00000000e+00, 1.75595722e-12,\n",
              "       7.42725128e-01, 5.00000000e+00, 5.00000000e+00, 5.00000000e+00,\n",
              "       5.00000000e+00, 1.27349004e-12, 5.00000000e+00, 5.00000000e+00,\n",
              "       5.00000000e+00, 5.00000000e+00, 5.00000000e+00, 5.00000000e+00,\n",
              "       2.16865469e+00, 5.00000000e+00, 5.00000000e+00, 5.00000000e+00,\n",
              "       5.00000000e+00, 1.07744536e-12])"
            ]
          },
          "metadata": {},
          "execution_count": 364
        }
      ]
    },
    {
      "cell_type": "code",
      "metadata": {
        "colab": {
          "base_uri": "https://localhost:8080/"
        },
        "id": "BtYP-n8M_KGb",
        "outputId": "5947cfcf-0807-4b0a-86cf-d38c0ad05b2e"
      },
      "source": [
        "np.sum(optimized_sharpe.x*100)"
      ],
      "execution_count": null,
      "outputs": [
        {
          "output_type": "execute_result",
          "data": {
            "text/plain": [
              "99.99999999999936"
            ]
          },
          "metadata": {},
          "execution_count": 365
        }
      ]
    },
    {
      "cell_type": "code",
      "metadata": {
        "colab": {
          "base_uri": "https://localhost:8080/"
        },
        "id": "rEvFW8mDQM5d",
        "outputId": "107dc7d7-d8f7-4dcf-af2f-917befdc6c19"
      },
      "source": [
        "#this code is for telling us, which stocks has weights greater than 1 percentage\n",
        "result = np.where(optimized_sharpe.x*100 >=1 )\n",
        "print(result[0])"
      ],
      "execution_count": null,
      "outputs": [
        {
          "output_type": "stream",
          "name": "stdout",
          "text": [
            "[ 0  1  2  3  4  5  6  7  8  9 10 11 12 13 14 15 16 17 18 19 20 21 22 23\n",
            " 24 25 26 27 28 29]\n"
          ]
        }
      ]
    },
    {
      "cell_type": "code",
      "metadata": {
        "colab": {
          "base_uri": "https://localhost:8080/"
        },
        "id": "pwBIP_-MYX9r",
        "outputId": "c03f07c2-eb3f-4fac-ebc9-00aa9351fe81"
      },
      "source": [
        "i = result[0]\n",
        "for i in result:\n",
        "  print(optimized_sharpe.x[i])\n",
        "print('='*80)\n",
        "print('='*80)\n",
        "print (\"allocate \",optimized_sharpe.x[i]*100, \" % percentge to stock no. \", i,  \" \")"
      ],
      "execution_count": null,
      "outputs": [
        {
          "output_type": "stream",
          "name": "stdout",
          "text": [
            "[0.05       0.05       0.0208862  0.05       0.05       0.05\n",
            " 0.05       0.05       0.05       0.05       0.05       0.05\n",
            " 0.05       0.05       0.05       0.05       0.02168655 0.05\n",
            " 0.05       0.05       0.05      ]\n",
            "================================================================================\n",
            "================================================================================\n",
            "allocate  [5.         5.         2.08862019 5.         5.         5.\n",
            " 5.         5.         5.         5.         5.         5.\n",
            " 5.         5.         5.         5.         2.16865469 5.\n",
            " 5.         5.         5.        ]  % percentge to stock no.  [ 0  2  3  4  7 10 13 14 15 16 18 19 20 21 22 23 24 25 26 27 28]  \n"
          ]
        }
      ]
    },
    {
      "cell_type": "code",
      "metadata": {
        "id": "zCmuBVXc4Pao"
      },
      "source": [],
      "execution_count": null,
      "outputs": []
    },
    {
      "cell_type": "code",
      "metadata": {
        "colab": {
          "base_uri": "https://localhost:8080/"
        },
        "id": "X5HK6Y2eZFgb",
        "outputId": "acd99a75-cc82-4b61-a372-bbbf5d73dd07"
      },
      "source": [
        "weightsss = [0.02624424, 0, 0.06729271,  0, 0, 0, 0, 0, 0, 0, 0.04650145, 0, 0, 0, 0.02317686, 0, 0.33094688, 0, 0, 0.16276012, 0, 0, 0, 0, 0.23883923, 0.08897252, 0.01526599, 0, 0, 0]\n",
        "#weightsss = [0.02624424, 0, 0.06729271,  0, 0, 0, 0, 0, 0, 0, 0.04650145, 0, 0, 0, 0.02317686, 0, 0.33094688, 0, 0, 0.16276012, 0, 0, 0, 0, 0.23883923, 0.08897252, 0.01526599, 0, 0, 0]\n",
        "print(len(weightsss))"
      ],
      "execution_count": null,
      "outputs": [
        {
          "output_type": "stream",
          "name": "stdout",
          "text": [
            "30\n"
          ]
        }
      ]
    },
    {
      "cell_type": "code",
      "metadata": {
        "colab": {
          "base_uri": "https://localhost:8080/"
        },
        "id": "QtyB8mLlFVR_",
        "outputId": "e0846ae4-d671-43d4-84d1-fa103fb1fe9e"
      },
      "source": [
        "annual_returns = returns.mean()*252*100\n",
        "annual_returns"
      ],
      "execution_count": null,
      "outputs": [
        {
          "output_type": "execute_result",
          "data": {
            "text/plain": [
              "AAPL    21.865405\n",
              "AXP      8.075084\n",
              "BA      21.449091\n",
              "CAT     13.862814\n",
              "CSCO    14.444126\n",
              "CVX      6.263321\n",
              "DD       3.079224\n",
              "DIS     10.578179\n",
              "GE     -12.449480\n",
              "GS       5.583251\n",
              "HD      17.860698\n",
              "IBM      0.679977\n",
              "INTC    13.123669\n",
              "JNJ      9.581890\n",
              "JPM     19.238765\n",
              "KO       8.754862\n",
              "MCD     18.154138\n",
              "MMM      4.725634\n",
              "MRK     12.199554\n",
              "MSFT    26.942637\n",
              "NKE     16.747987\n",
              "PFE      8.293682\n",
              "PG       9.943057\n",
              "T        8.627668\n",
              "TRV      7.778267\n",
              "UNH     23.562762\n",
              "V       22.251624\n",
              "VZ      10.159643\n",
              "WMT      9.221537\n",
              "XOM     -1.264306\n",
              "dtype: float64"
            ]
          },
          "metadata": {},
          "execution_count": 369
        }
      ]
    },
    {
      "cell_type": "code",
      "metadata": {
        "colab": {
          "base_uri": "https://localhost:8080/"
        },
        "id": "STamrMQLaRuD",
        "outputId": "995aa1db-d750-4f69-8bec-336f9094c797"
      },
      "source": [
        "expected_return = np.sum(weightsss*returns.mean())*252\n",
        "\n",
        "print(\"expected annual portfolio return:\",expected_return*100)"
      ],
      "execution_count": null,
      "outputs": [
        {
          "output_type": "stream",
          "name": "stdout",
          "text": [
            "expected annual portfolio return: 17.980779623781128\n"
          ]
        }
      ]
    },
    {
      "cell_type": "code",
      "metadata": {
        "colab": {
          "base_uri": "https://localhost:8080/"
        },
        "id": "ElCJKNrRGO6g",
        "outputId": "6a474588-3548-49bd-f1fc-fd7f5b7715cd"
      },
      "source": [
        "np.sum(Experimented_returns)"
      ],
      "execution_count": null,
      "outputs": [
        {
          "output_type": "execute_result",
          "data": {
            "text/plain": [
              "17.980779623781128"
            ]
          },
          "metadata": {},
          "execution_count": 371
        }
      ]
    },
    {
      "cell_type": "code",
      "metadata": {
        "colab": {
          "base_uri": "https://localhost:8080/"
        },
        "id": "NfJROAIpQPx_",
        "outputId": "90c20ed0-c29e-4375-8931-3c425fb6e8ee"
      },
      "source": [
        "np.sum(optimized_sharpe.x*100)"
      ],
      "execution_count": null,
      "outputs": [
        {
          "output_type": "execute_result",
          "data": {
            "text/plain": [
              "99.99999999999936"
            ]
          },
          "metadata": {},
          "execution_count": 372
        }
      ]
    },
    {
      "cell_type": "code",
      "metadata": {
        "colab": {
          "base_uri": "https://localhost:8080/"
        },
        "id": "0GFL2wFHDDiI",
        "outputId": "0bc75df0-a634-44d3-d04e-5e536f78235a"
      },
      "source": [
        "arr = [0.02624424, 0.06729271, 0.04650145, 0.02317686, 0.33094688, 0.16276012, 0.23883923, 0.08897252, 0.01526599]\n",
        "np.sum(arr)"
      ],
      "execution_count": null,
      "outputs": [
        {
          "output_type": "execute_result",
          "data": {
            "text/plain": [
              "1.0"
            ]
          },
          "metadata": {},
          "execution_count": 373
        }
      ]
    }
  ]
}
